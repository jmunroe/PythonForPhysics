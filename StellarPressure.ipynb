{
 "cells": [
  {
   "cell_type": "markdown",
   "metadata": {},
   "source": [
    "# Pressure in a Star\n",
    "An example from Phys3150, Assignment 5 (Dr. Morrow, Fall 2015)"
   ]
  },
  {
   "cell_type": "markdown",
   "metadata": {},
   "source": [
    "## Question 3\n",
    "The dependence of the pressure on distancefrom the stellar center is expressed by the equation of hydrostatic equilibrium, $\\frac{dP}{dr} = - \\frac{G \\rho(r) M_r }{r^2}$. The way in which the mass within a certain distance of the stellar center increases with that distance is expressed by the conservation fo mass equation, $\\frac{dM_r}{dr} = 4\\pi r^2 \\rho$."
   ]
  },
  {
   "cell_type": "markdown",
   "metadata": {},
   "source": [
    "(a) Use these two equations to show that \n",
    "$$\\frac{1}{r^2} \\frac{d}{dr} \\left( \\frac{r^2}{\\rho} \\frac{dP}{dr} \\right) = -4 \\pi G \\rho$$\n",
    "\n",
    "(b) The dependence of pressure on density is described by an equation of state.\n",
    "Polytropic equations of state are ones of the form $P(\\rho) = K \\rho^{\\gamma}$.\n",
    "You may have already encountered the equation of state for which $\\gamma = 5/3$ \n",
    "corresponds to an ideal, adiabatic, monatomic ideal gas. \n",
    "This equation of state can also describe pressure in a non-relativistic white\n",
    "dwarf. Show that for $P(\\rho) = K \\rho^{\\gamma}$, and with the substitution\n",
    "$ t = r \\times \\sqrt{4 \\pi G / K}$, the differential equation in part (a) can be written as\n",
    "\n",
    "$$ \\frac{\\partial^2 \\rho}{\\partial t^2} +\n",
    "\\frac{(\\gamma - 2)}{\\rho} \\left( \\frac{\\partial \\rho}{\\partial t} \\right)^2 +\n",
    "\\frac{2}{t}\\frac{\\partial \\rho}{\\partial t} +\n",
    "\\frac{\\rho^{(3-\\gamma)}}{\\gamma} = 0$$\n",
    "\n",
    "(c)  Use Mathematica (or equivalent) to numerically solve for $\\rho(t)$ vs $t$ \n",
    "for the case $\\gamma = 5/3$.For your solution and plot, use the range\n",
    "$ 0 \\lt t \\lt 6 $. For boundary conditions, use $\\rho(0) = 1$ and\n",
    "$\\dfrac{d \\rho}{d t} \\biggl |_0 = 0$. The second condition follows from the equation of hydrostatic\n",
    "equilibrium and $M_r \\rightarrow 0$ at the centre of the star. Your plot will give an indication of how\n",
    "density varies with distance from the centre of a star (i.e. a white dwarf) described by this\n",
    "equation of state. The actual density will be scaled by the core density. The scaled radius at\n",
    "which $\\rho \\rightarrow 0$ defines the surface of the star."
   ]
  },
  {
   "cell_type": "markdown",
   "metadata": {},
   "source": [
    "## Solution\n",
    "\n",
    "Parts (a) and (b) can be done analytically and straightforwardly derive the equation given in part (b).  Our task now is to numerically solve this ordinary differential equation. Instead of Mathematica, we will use the numpy/scipy/matplotlib software stack and Python."
   ]
  },
  {
   "cell_type": "code",
   "execution_count": 3,
   "metadata": {
    "collapsed": true
   },
   "outputs": [],
   "source": [
    "ρ=3"
   ]
  },
  {
   "cell_type": "code",
   "execution_count": 4,
   "metadata": {
    "collapsed": false
   },
   "outputs": [
    {
     "name": "stdout",
     "output_type": "stream",
     "text": [
      "3\n"
     ]
    }
   ],
   "source": [
    "print(ρ)"
   ]
  },
  {
   "cell_type": "code",
   "execution_count": null,
   "metadata": {
    "collapsed": true
   },
   "outputs": [],
   "source": []
  }
 ],
 "metadata": {
  "kernelspec": {
   "display_name": "Python 3",
   "language": "python",
   "name": "python3"
  },
  "language_info": {
   "codemirror_mode": {
    "name": "ipython",
    "version": 3
   },
   "file_extension": ".py",
   "mimetype": "text/x-python",
   "name": "python",
   "nbconvert_exporter": "python",
   "pygments_lexer": "ipython3",
   "version": "3.5.0"
  }
 },
 "nbformat": 4,
 "nbformat_minor": 0
}
