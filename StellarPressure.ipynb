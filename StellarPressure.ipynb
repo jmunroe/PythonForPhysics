{
 "cells": [
  {
   "cell_type": "code",
   "execution_count": 5,
   "metadata": {
    "collapsed": true
   },
   "outputs": [],
   "source": [
    "%matplotlib inline\n",
    "import matplotlib.pyplot as plt\n",
    "import numpy as np"
   ]
  },
  {
   "cell_type": "markdown",
   "metadata": {},
   "source": [
    "# Pressure in a Star\n",
    "An example from Phys3150, Assignment 5 (Dr. Morrow, Fall 2015)"
   ]
  },
  {
   "cell_type": "markdown",
   "metadata": {},
   "source": [
    "## Question 3\n",
    "The dependence of the pressure on distancefrom the stellar center is expressed by the equation of hydrostatic equilibrium, $\\frac{dP}{dr} = - \\frac{G \\rho(r) M_r }{r^2}$. The way in which the mass within a certain distance of the stellar center increases with that distance is expressed by the conservation fo mass equation, $\\frac{dM_r}{dr} = 4\\pi r^2 \\rho$."
   ]
  },
  {
   "cell_type": "markdown",
   "metadata": {},
   "source": [
    "(a) Use these two equations to show that \n",
    "$$\\frac{1}{r^2} \\frac{d}{dr} \\left( \\frac{r^2}{\\rho} \\frac{dP}{dr} \\right) = -4 \\pi G \\rho$$\n",
    "\n",
    "(b) The dependence of pressure on density is described by an equation of state.\n",
    "Polytropic equations of state are ones of the form $P(\\rho) = K \\rho^{\\gamma}$.\n",
    "You may have already encountered the equation of state for which $\\gamma = 5/3$ \n",
    "corresponds to an ideal, adiabatic, monatomic ideal gas. \n",
    "This equation of state can also describe pressure in a non-relativistic white\n",
    "dwarf. Show that for $P(\\rho) = K \\rho^{\\gamma}$, and with the substitution\n",
    "$ t = r \\times \\sqrt{4 \\pi G / K}$, the differential equation in part (a) can be written as\n",
    "\n",
    "$$ \\frac{d^2 \\rho}{d t^2} +\n",
    "\\frac{(\\gamma - 2)}{\\rho} \\left( \\frac{d \\rho}{d t} \\right)^2 +\n",
    "\\frac{2}{t}\\frac{d \\rho}{d t} +\n",
    "\\frac{\\rho^{(3-\\gamma)}}{\\gamma} = 0$$\n",
    "\n",
    "(c)  Use Mathematica (or equivalent) to numerically solve for $\\rho(t)$ vs $t$ \n",
    "for the case $\\gamma = 5/3$.For your solution and plot, use the range\n",
    "$ 0 \\lt t \\lt 6 $. For boundary conditions, use $\\rho(0) = 1$ and\n",
    "$\\dfrac{d \\rho}{d t} \\biggl |_0 = 0$. The second condition follows from the equation of hydrostatic\n",
    "equilibrium and $M_r \\rightarrow 0$ at the centre of the star. Your plot will give an indication of how\n",
    "density varies with distance from the centre of a star (i.e. a white dwarf) described by this\n",
    "equation of state. The actual density will be scaled by the core density. The scaled radius at\n",
    "which $\\rho \\rightarrow 0$ defines the surface of the star."
   ]
  },
  {
   "cell_type": "markdown",
   "metadata": {},
   "source": [
    "## Solution\n",
    "\n",
    "Parts (a) and (b) can be done analytically and straightforwardly derive the equation given in part (b).  Our task now is to numerically solve this ordinary differential equation. Instead of Mathematica, we will use the numpy/scipy/matplotlib software stack and Python.\n",
    "\n",
    "To solve ordinary differential equations (ODEs) numerically we need to first represent this our second order differential equation as a system of two first order DEs.  Specifically, we can write\n",
    "\n",
    "\\begin{align}\n",
    "\\frac{d y_0}{dt} &= y_1\\\\\n",
    "\\frac{d y_1}{dt} &= -\\frac{(\\gamma -2)}{y_0} y_1^2 - \\frac{2}{t} y_1 - \\frac{y_0^{(3-\\gamma)}}{\\gamma}\n",
    "\\end{align}\n",
    "\n",
    "where we are simply labelling $y_0 = \\rho(t)$ and $y_1 = \\dfrac{d\\rho}{dt}$ and so the initial conditions become\n",
    "\n",
    "\\begin{align}\n",
    "y_0(0) &= 1 \\\\\n",
    "y_1(0) &= 0\n",
    "\\end{align}\n"
   ]
  },
  {
   "cell_type": "code",
   "execution_count": 43,
   "metadata": {
    "collapsed": false,
    "scrolled": true
   },
   "outputs": [
    {
     "name": "stderr",
     "output_type": "stream",
     "text": [
      "/opt/conda/lib/python3.4/site-packages/ipykernel/__main__.py:7: RuntimeWarning: invalid value encountered in double_scalars\n"
     ]
    },
    {
     "data": {
      "text/plain": [
       "<matplotlib.text.Text at 0x7f794b3ecf28>"
      ]
     },
     "execution_count": 43,
     "metadata": {},
     "output_type": "execute_result"
    },
    {
     "data": {
      "image/png": "[encoded data removed]",
      "text/plain": [
       "<matplotlib.figure.Figure at 0x7f794b457390>"
      ]
     },
     "metadata": {},
     "output_type": "display_data"
    }
   ],
   "source": [
    "from scipy.integrate import odeint\n",
    "\n",
    "def deriv(y, t): \n",
    "    # return derivatives of the array y at time t\n",
    "    γ = 5/3.0\n",
    "    return np.array([ y[1], \n",
    "                  - (γ-2)/y[0] * y[1]**2 - 2/t*y[1] - y[0]**(3-γ)/γ ] )\n",
    "\n",
    "t = np.arange(0.0001, 6, 0.01)\n",
    "yinit = np.array([1, 0]) # initial values\n",
    "y = odeint(deriv, yinit, t)\n",
    "\n",
    "plt.plot(t, y[:,0])\n",
    "plt.xlabel(r'$t$')\n",
    "plt.ylabel(r'$\\rho / \\rho_0$')\n"
   ]
  },
  {
   "cell_type": "markdown",
   "metadata": {
    "collapsed": true
   },
   "source": [
    "There are few numerical issues remaining.  At $t=0$ the DE is singular, but the initial condition removes this singularity. We solve the problem by integrating from t =0.001 as the starting point.\n",
    "\n",
    "As t approaches 6 we get another numerical issue. Perhaps changing the solver (or its settings) could improve this. Under the hood, the solver is lsode from ODEPACK. "
   ]
  }
 ],
 "metadata": {
  "kernelspec": {
   "display_name": "Python 3",
   "language": "python",
   "name": "python3"
  },
  "language_info": {
   "codemirror_mode": {
    "name": "ipython",
    "version": 3
   },
   "file_extension": ".py",
   "mimetype": "text/x-python",
   "name": "python",
   "nbconvert_exporter": "python",
   "pygments_lexer": "ipython3",
   "version": "3.4.3"
  }
 },
 "nbformat": 4,
 "nbformat_minor": 0
}
